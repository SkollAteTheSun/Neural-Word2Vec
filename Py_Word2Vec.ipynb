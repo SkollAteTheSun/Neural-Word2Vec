{
  "nbformat": 4,
  "nbformat_minor": 0,
  "metadata": {
    "colab": {
      "name": "Py_Word2Vec",
      "provenance": [],
      "collapsed_sections": []
    },
    "kernelspec": {
      "name": "python3",
      "display_name": "Python 3"
    },
    "language_info": {
      "name": "python"
    },
    "widgets": {
      "application/vnd.jupyter.widget-state+json": {
        "9ab4422c064b4bcca6714bbef8626a97": {
          "model_module": "@jupyter-widgets/controls",
          "model_name": "HBoxModel",
          "model_module_version": "1.5.0",
          "state": {
            "_dom_classes": [],
            "_model_module": "@jupyter-widgets/controls",
            "_model_module_version": "1.5.0",
            "_model_name": "HBoxModel",
            "_view_count": null,
            "_view_module": "@jupyter-widgets/controls",
            "_view_module_version": "1.5.0",
            "_view_name": "HBoxView",
            "box_style": "",
            "children": [
              "IPY_MODEL_f1fe7452934d4b0f849aac54e7214cfc",
              "IPY_MODEL_407a47ec48144bf69763c7f8cfb8d8e9",
              "IPY_MODEL_eceac82f273e4c2893d31eeb0ef3cabe"
            ],
            "layout": "IPY_MODEL_01f33e539aca4e3a89538d04081f9f52"
          }
        },
        "f1fe7452934d4b0f849aac54e7214cfc": {
          "model_module": "@jupyter-widgets/controls",
          "model_name": "HTMLModel",
          "model_module_version": "1.5.0",
          "state": {
            "_dom_classes": [],
            "_model_module": "@jupyter-widgets/controls",
            "_model_module_version": "1.5.0",
            "_model_name": "HTMLModel",
            "_view_count": null,
            "_view_module": "@jupyter-widgets/controls",
            "_view_module_version": "1.5.0",
            "_view_name": "HTMLView",
            "description": "",
            "description_tooltip": null,
            "layout": "IPY_MODEL_abc4680ed24740f8b7f29597364e3405",
            "placeholder": "​",
            "style": "IPY_MODEL_8d2cf425915c4801ad490a2a8e4a8f64",
            "value": "100%"
          }
        },
        "407a47ec48144bf69763c7f8cfb8d8e9": {
          "model_module": "@jupyter-widgets/controls",
          "model_name": "FloatProgressModel",
          "model_module_version": "1.5.0",
          "state": {
            "_dom_classes": [],
            "_model_module": "@jupyter-widgets/controls",
            "_model_module_version": "1.5.0",
            "_model_name": "FloatProgressModel",
            "_view_count": null,
            "_view_module": "@jupyter-widgets/controls",
            "_view_module_version": "1.5.0",
            "_view_name": "ProgressView",
            "bar_style": "success",
            "description": "",
            "description_tooltip": null,
            "layout": "IPY_MODEL_87bf9cc9b29d41b59297e8f3bad963ca",
            "max": 25,
            "min": 0,
            "orientation": "horizontal",
            "style": "IPY_MODEL_41cffce16e5a4e66a31f86302b45858e",
            "value": 25
          }
        },
        "eceac82f273e4c2893d31eeb0ef3cabe": {
          "model_module": "@jupyter-widgets/controls",
          "model_name": "HTMLModel",
          "model_module_version": "1.5.0",
          "state": {
            "_dom_classes": [],
            "_model_module": "@jupyter-widgets/controls",
            "_model_module_version": "1.5.0",
            "_model_name": "HTMLModel",
            "_view_count": null,
            "_view_module": "@jupyter-widgets/controls",
            "_view_module_version": "1.5.0",
            "_view_name": "HTMLView",
            "description": "",
            "description_tooltip": null,
            "layout": "IPY_MODEL_6a364ef0577741788d5f74613458e244",
            "placeholder": "​",
            "style": "IPY_MODEL_ce3b2c2142da4d34b321be1b6656eb2f",
            "value": " 25/25 [00:01&lt;00:00, 20.23it/s]"
          }
        },
        "01f33e539aca4e3a89538d04081f9f52": {
          "model_module": "@jupyter-widgets/base",
          "model_name": "LayoutModel",
          "model_module_version": "1.2.0",
          "state": {
            "_model_module": "@jupyter-widgets/base",
            "_model_module_version": "1.2.0",
            "_model_name": "LayoutModel",
            "_view_count": null,
            "_view_module": "@jupyter-widgets/base",
            "_view_module_version": "1.2.0",
            "_view_name": "LayoutView",
            "align_content": null,
            "align_items": null,
            "align_self": null,
            "border": null,
            "bottom": null,
            "display": null,
            "flex": null,
            "flex_flow": null,
            "grid_area": null,
            "grid_auto_columns": null,
            "grid_auto_flow": null,
            "grid_auto_rows": null,
            "grid_column": null,
            "grid_gap": null,
            "grid_row": null,
            "grid_template_areas": null,
            "grid_template_columns": null,
            "grid_template_rows": null,
            "height": null,
            "justify_content": null,
            "justify_items": null,
            "left": null,
            "margin": null,
            "max_height": null,
            "max_width": null,
            "min_height": null,
            "min_width": null,
            "object_fit": null,
            "object_position": null,
            "order": null,
            "overflow": null,
            "overflow_x": null,
            "overflow_y": null,
            "padding": null,
            "right": null,
            "top": null,
            "visibility": null,
            "width": null
          }
        },
        "abc4680ed24740f8b7f29597364e3405": {
          "model_module": "@jupyter-widgets/base",
          "model_name": "LayoutModel",
          "model_module_version": "1.2.0",
          "state": {
            "_model_module": "@jupyter-widgets/base",
            "_model_module_version": "1.2.0",
            "_model_name": "LayoutModel",
            "_view_count": null,
            "_view_module": "@jupyter-widgets/base",
            "_view_module_version": "1.2.0",
            "_view_name": "LayoutView",
            "align_content": null,
            "align_items": null,
            "align_self": null,
            "border": null,
            "bottom": null,
            "display": null,
            "flex": null,
            "flex_flow": null,
            "grid_area": null,
            "grid_auto_columns": null,
            "grid_auto_flow": null,
            "grid_auto_rows": null,
            "grid_column": null,
            "grid_gap": null,
            "grid_row": null,
            "grid_template_areas": null,
            "grid_template_columns": null,
            "grid_template_rows": null,
            "height": null,
            "justify_content": null,
            "justify_items": null,
            "left": null,
            "margin": null,
            "max_height": null,
            "max_width": null,
            "min_height": null,
            "min_width": null,
            "object_fit": null,
            "object_position": null,
            "order": null,
            "overflow": null,
            "overflow_x": null,
            "overflow_y": null,
            "padding": null,
            "right": null,
            "top": null,
            "visibility": null,
            "width": null
          }
        },
        "8d2cf425915c4801ad490a2a8e4a8f64": {
          "model_module": "@jupyter-widgets/controls",
          "model_name": "DescriptionStyleModel",
          "model_module_version": "1.5.0",
          "state": {
            "_model_module": "@jupyter-widgets/controls",
            "_model_module_version": "1.5.0",
            "_model_name": "DescriptionStyleModel",
            "_view_count": null,
            "_view_module": "@jupyter-widgets/base",
            "_view_module_version": "1.2.0",
            "_view_name": "StyleView",
            "description_width": ""
          }
        },
        "87bf9cc9b29d41b59297e8f3bad963ca": {
          "model_module": "@jupyter-widgets/base",
          "model_name": "LayoutModel",
          "model_module_version": "1.2.0",
          "state": {
            "_model_module": "@jupyter-widgets/base",
            "_model_module_version": "1.2.0",
            "_model_name": "LayoutModel",
            "_view_count": null,
            "_view_module": "@jupyter-widgets/base",
            "_view_module_version": "1.2.0",
            "_view_name": "LayoutView",
            "align_content": null,
            "align_items": null,
            "align_self": null,
            "border": null,
            "bottom": null,
            "display": null,
            "flex": null,
            "flex_flow": null,
            "grid_area": null,
            "grid_auto_columns": null,
            "grid_auto_flow": null,
            "grid_auto_rows": null,
            "grid_column": null,
            "grid_gap": null,
            "grid_row": null,
            "grid_template_areas": null,
            "grid_template_columns": null,
            "grid_template_rows": null,
            "height": null,
            "justify_content": null,
            "justify_items": null,
            "left": null,
            "margin": null,
            "max_height": null,
            "max_width": null,
            "min_height": null,
            "min_width": null,
            "object_fit": null,
            "object_position": null,
            "order": null,
            "overflow": null,
            "overflow_x": null,
            "overflow_y": null,
            "padding": null,
            "right": null,
            "top": null,
            "visibility": null,
            "width": null
          }
        },
        "41cffce16e5a4e66a31f86302b45858e": {
          "model_module": "@jupyter-widgets/controls",
          "model_name": "ProgressStyleModel",
          "model_module_version": "1.5.0",
          "state": {
            "_model_module": "@jupyter-widgets/controls",
            "_model_module_version": "1.5.0",
            "_model_name": "ProgressStyleModel",
            "_view_count": null,
            "_view_module": "@jupyter-widgets/base",
            "_view_module_version": "1.2.0",
            "_view_name": "StyleView",
            "bar_color": null,
            "description_width": ""
          }
        },
        "6a364ef0577741788d5f74613458e244": {
          "model_module": "@jupyter-widgets/base",
          "model_name": "LayoutModel",
          "model_module_version": "1.2.0",
          "state": {
            "_model_module": "@jupyter-widgets/base",
            "_model_module_version": "1.2.0",
            "_model_name": "LayoutModel",
            "_view_count": null,
            "_view_module": "@jupyter-widgets/base",
            "_view_module_version": "1.2.0",
            "_view_name": "LayoutView",
            "align_content": null,
            "align_items": null,
            "align_self": null,
            "border": null,
            "bottom": null,
            "display": null,
            "flex": null,
            "flex_flow": null,
            "grid_area": null,
            "grid_auto_columns": null,
            "grid_auto_flow": null,
            "grid_auto_rows": null,
            "grid_column": null,
            "grid_gap": null,
            "grid_row": null,
            "grid_template_areas": null,
            "grid_template_columns": null,
            "grid_template_rows": null,
            "height": null,
            "justify_content": null,
            "justify_items": null,
            "left": null,
            "margin": null,
            "max_height": null,
            "max_width": null,
            "min_height": null,
            "min_width": null,
            "object_fit": null,
            "object_position": null,
            "order": null,
            "overflow": null,
            "overflow_x": null,
            "overflow_y": null,
            "padding": null,
            "right": null,
            "top": null,
            "visibility": null,
            "width": null
          }
        },
        "ce3b2c2142da4d34b321be1b6656eb2f": {
          "model_module": "@jupyter-widgets/controls",
          "model_name": "DescriptionStyleModel",
          "model_module_version": "1.5.0",
          "state": {
            "_model_module": "@jupyter-widgets/controls",
            "_model_module_version": "1.5.0",
            "_model_name": "DescriptionStyleModel",
            "_view_count": null,
            "_view_module": "@jupyter-widgets/base",
            "_view_module_version": "1.2.0",
            "_view_name": "StyleView",
            "description_width": ""
          }
        },
        "780ba6297516476885605583d5fba8cd": {
          "model_module": "@jupyter-widgets/controls",
          "model_name": "HBoxModel",
          "model_module_version": "1.5.0",
          "state": {
            "_dom_classes": [],
            "_model_module": "@jupyter-widgets/controls",
            "_model_module_version": "1.5.0",
            "_model_name": "HBoxModel",
            "_view_count": null,
            "_view_module": "@jupyter-widgets/controls",
            "_view_module_version": "1.5.0",
            "_view_name": "HBoxView",
            "box_style": "",
            "children": [
              "IPY_MODEL_e69508314924408da92b232969574320",
              "IPY_MODEL_a1f9d69a998d42a4a693a50ca503b387",
              "IPY_MODEL_89860051410946c9adcc8c093ac87de0"
            ],
            "layout": "IPY_MODEL_40b4213ba9a24eb2a8c58eac058b24ed"
          }
        },
        "e69508314924408da92b232969574320": {
          "model_module": "@jupyter-widgets/controls",
          "model_name": "HTMLModel",
          "model_module_version": "1.5.0",
          "state": {
            "_dom_classes": [],
            "_model_module": "@jupyter-widgets/controls",
            "_model_module_version": "1.5.0",
            "_model_name": "HTMLModel",
            "_view_count": null,
            "_view_module": "@jupyter-widgets/controls",
            "_view_module_version": "1.5.0",
            "_view_name": "HTMLView",
            "description": "",
            "description_tooltip": null,
            "layout": "IPY_MODEL_b5eb5c24c79d4cad9c43e7fa4e92ee4b",
            "placeholder": "​",
            "style": "IPY_MODEL_9137fd45a06240e9bc72c05eaea41792",
            "value": "100%"
          }
        },
        "a1f9d69a998d42a4a693a50ca503b387": {
          "model_module": "@jupyter-widgets/controls",
          "model_name": "FloatProgressModel",
          "model_module_version": "1.5.0",
          "state": {
            "_dom_classes": [],
            "_model_module": "@jupyter-widgets/controls",
            "_model_module_version": "1.5.0",
            "_model_name": "FloatProgressModel",
            "_view_count": null,
            "_view_module": "@jupyter-widgets/controls",
            "_view_module_version": "1.5.0",
            "_view_name": "ProgressView",
            "bar_style": "success",
            "description": "",
            "description_tooltip": null,
            "layout": "IPY_MODEL_6a8cc83d0d5348e2a75ff8ce22e55c1e",
            "max": 25,
            "min": 0,
            "orientation": "horizontal",
            "style": "IPY_MODEL_56e8f56e969d44de9da2ed067949ee1e",
            "value": 25
          }
        },
        "89860051410946c9adcc8c093ac87de0": {
          "model_module": "@jupyter-widgets/controls",
          "model_name": "HTMLModel",
          "model_module_version": "1.5.0",
          "state": {
            "_dom_classes": [],
            "_model_module": "@jupyter-widgets/controls",
            "_model_module_version": "1.5.0",
            "_model_name": "HTMLModel",
            "_view_count": null,
            "_view_module": "@jupyter-widgets/controls",
            "_view_module_version": "1.5.0",
            "_view_name": "HTMLView",
            "description": "",
            "description_tooltip": null,
            "layout": "IPY_MODEL_8d36b39cba3e41928be8739bbf2d82c7",
            "placeholder": "​",
            "style": "IPY_MODEL_f24da3518c134d9aa6ac7bbe85edd072",
            "value": " 25/25 [00:01&lt;00:00, 17.33it/s]"
          }
        },
        "40b4213ba9a24eb2a8c58eac058b24ed": {
          "model_module": "@jupyter-widgets/base",
          "model_name": "LayoutModel",
          "model_module_version": "1.2.0",
          "state": {
            "_model_module": "@jupyter-widgets/base",
            "_model_module_version": "1.2.0",
            "_model_name": "LayoutModel",
            "_view_count": null,
            "_view_module": "@jupyter-widgets/base",
            "_view_module_version": "1.2.0",
            "_view_name": "LayoutView",
            "align_content": null,
            "align_items": null,
            "align_self": null,
            "border": null,
            "bottom": null,
            "display": null,
            "flex": null,
            "flex_flow": null,
            "grid_area": null,
            "grid_auto_columns": null,
            "grid_auto_flow": null,
            "grid_auto_rows": null,
            "grid_column": null,
            "grid_gap": null,
            "grid_row": null,
            "grid_template_areas": null,
            "grid_template_columns": null,
            "grid_template_rows": null,
            "height": null,
            "justify_content": null,
            "justify_items": null,
            "left": null,
            "margin": null,
            "max_height": null,
            "max_width": null,
            "min_height": null,
            "min_width": null,
            "object_fit": null,
            "object_position": null,
            "order": null,
            "overflow": null,
            "overflow_x": null,
            "overflow_y": null,
            "padding": null,
            "right": null,
            "top": null,
            "visibility": null,
            "width": null
          }
        },
        "b5eb5c24c79d4cad9c43e7fa4e92ee4b": {
          "model_module": "@jupyter-widgets/base",
          "model_name": "LayoutModel",
          "model_module_version": "1.2.0",
          "state": {
            "_model_module": "@jupyter-widgets/base",
            "_model_module_version": "1.2.0",
            "_model_name": "LayoutModel",
            "_view_count": null,
            "_view_module": "@jupyter-widgets/base",
            "_view_module_version": "1.2.0",
            "_view_name": "LayoutView",
            "align_content": null,
            "align_items": null,
            "align_self": null,
            "border": null,
            "bottom": null,
            "display": null,
            "flex": null,
            "flex_flow": null,
            "grid_area": null,
            "grid_auto_columns": null,
            "grid_auto_flow": null,
            "grid_auto_rows": null,
            "grid_column": null,
            "grid_gap": null,
            "grid_row": null,
            "grid_template_areas": null,
            "grid_template_columns": null,
            "grid_template_rows": null,
            "height": null,
            "justify_content": null,
            "justify_items": null,
            "left": null,
            "margin": null,
            "max_height": null,
            "max_width": null,
            "min_height": null,
            "min_width": null,
            "object_fit": null,
            "object_position": null,
            "order": null,
            "overflow": null,
            "overflow_x": null,
            "overflow_y": null,
            "padding": null,
            "right": null,
            "top": null,
            "visibility": null,
            "width": null
          }
        },
        "9137fd45a06240e9bc72c05eaea41792": {
          "model_module": "@jupyter-widgets/controls",
          "model_name": "DescriptionStyleModel",
          "model_module_version": "1.5.0",
          "state": {
            "_model_module": "@jupyter-widgets/controls",
            "_model_module_version": "1.5.0",
            "_model_name": "DescriptionStyleModel",
            "_view_count": null,
            "_view_module": "@jupyter-widgets/base",
            "_view_module_version": "1.2.0",
            "_view_name": "StyleView",
            "description_width": ""
          }
        },
        "6a8cc83d0d5348e2a75ff8ce22e55c1e": {
          "model_module": "@jupyter-widgets/base",
          "model_name": "LayoutModel",
          "model_module_version": "1.2.0",
          "state": {
            "_model_module": "@jupyter-widgets/base",
            "_model_module_version": "1.2.0",
            "_model_name": "LayoutModel",
            "_view_count": null,
            "_view_module": "@jupyter-widgets/base",
            "_view_module_version": "1.2.0",
            "_view_name": "LayoutView",
            "align_content": null,
            "align_items": null,
            "align_self": null,
            "border": null,
            "bottom": null,
            "display": null,
            "flex": null,
            "flex_flow": null,
            "grid_area": null,
            "grid_auto_columns": null,
            "grid_auto_flow": null,
            "grid_auto_rows": null,
            "grid_column": null,
            "grid_gap": null,
            "grid_row": null,
            "grid_template_areas": null,
            "grid_template_columns": null,
            "grid_template_rows": null,
            "height": null,
            "justify_content": null,
            "justify_items": null,
            "left": null,
            "margin": null,
            "max_height": null,
            "max_width": null,
            "min_height": null,
            "min_width": null,
            "object_fit": null,
            "object_position": null,
            "order": null,
            "overflow": null,
            "overflow_x": null,
            "overflow_y": null,
            "padding": null,
            "right": null,
            "top": null,
            "visibility": null,
            "width": null
          }
        },
        "56e8f56e969d44de9da2ed067949ee1e": {
          "model_module": "@jupyter-widgets/controls",
          "model_name": "ProgressStyleModel",
          "model_module_version": "1.5.0",
          "state": {
            "_model_module": "@jupyter-widgets/controls",
            "_model_module_version": "1.5.0",
            "_model_name": "ProgressStyleModel",
            "_view_count": null,
            "_view_module": "@jupyter-widgets/base",
            "_view_module_version": "1.2.0",
            "_view_name": "StyleView",
            "bar_color": null,
            "description_width": ""
          }
        },
        "8d36b39cba3e41928be8739bbf2d82c7": {
          "model_module": "@jupyter-widgets/base",
          "model_name": "LayoutModel",
          "model_module_version": "1.2.0",
          "state": {
            "_model_module": "@jupyter-widgets/base",
            "_model_module_version": "1.2.0",
            "_model_name": "LayoutModel",
            "_view_count": null,
            "_view_module": "@jupyter-widgets/base",
            "_view_module_version": "1.2.0",
            "_view_name": "LayoutView",
            "align_content": null,
            "align_items": null,
            "align_self": null,
            "border": null,
            "bottom": null,
            "display": null,
            "flex": null,
            "flex_flow": null,
            "grid_area": null,
            "grid_auto_columns": null,
            "grid_auto_flow": null,
            "grid_auto_rows": null,
            "grid_column": null,
            "grid_gap": null,
            "grid_row": null,
            "grid_template_areas": null,
            "grid_template_columns": null,
            "grid_template_rows": null,
            "height": null,
            "justify_content": null,
            "justify_items": null,
            "left": null,
            "margin": null,
            "max_height": null,
            "max_width": null,
            "min_height": null,
            "min_width": null,
            "object_fit": null,
            "object_position": null,
            "order": null,
            "overflow": null,
            "overflow_x": null,
            "overflow_y": null,
            "padding": null,
            "right": null,
            "top": null,
            "visibility": null,
            "width": null
          }
        },
        "f24da3518c134d9aa6ac7bbe85edd072": {
          "model_module": "@jupyter-widgets/controls",
          "model_name": "DescriptionStyleModel",
          "model_module_version": "1.5.0",
          "state": {
            "_model_module": "@jupyter-widgets/controls",
            "_model_module_version": "1.5.0",
            "_model_name": "DescriptionStyleModel",
            "_view_count": null,
            "_view_module": "@jupyter-widgets/base",
            "_view_module_version": "1.2.0",
            "_view_name": "StyleView",
            "description_width": ""
          }
        },
        "5088edcce6704c6e8061f6aeeb61ae3a": {
          "model_module": "@jupyter-widgets/controls",
          "model_name": "HBoxModel",
          "model_module_version": "1.5.0",
          "state": {
            "_dom_classes": [],
            "_model_module": "@jupyter-widgets/controls",
            "_model_module_version": "1.5.0",
            "_model_name": "HBoxModel",
            "_view_count": null,
            "_view_module": "@jupyter-widgets/controls",
            "_view_module_version": "1.5.0",
            "_view_name": "HBoxView",
            "box_style": "",
            "children": [
              "IPY_MODEL_b00e5b0d44f84ea288ed33b020491da4",
              "IPY_MODEL_508070422b864eb0961b73cf8757a870",
              "IPY_MODEL_14dce3020e53453497bdcc92c5449050"
            ],
            "layout": "IPY_MODEL_feb783914cc548c5819769747e481872"
          }
        },
        "b00e5b0d44f84ea288ed33b020491da4": {
          "model_module": "@jupyter-widgets/controls",
          "model_name": "HTMLModel",
          "model_module_version": "1.5.0",
          "state": {
            "_dom_classes": [],
            "_model_module": "@jupyter-widgets/controls",
            "_model_module_version": "1.5.0",
            "_model_name": "HTMLModel",
            "_view_count": null,
            "_view_module": "@jupyter-widgets/controls",
            "_view_module_version": "1.5.0",
            "_view_name": "HTMLView",
            "description": "",
            "description_tooltip": null,
            "layout": "IPY_MODEL_d6e92d1ea5544071851ea15d91c7ada0",
            "placeholder": "​",
            "style": "IPY_MODEL_4b86127bc74f432cb6ca21c90802eb44",
            "value": "100%"
          }
        },
        "508070422b864eb0961b73cf8757a870": {
          "model_module": "@jupyter-widgets/controls",
          "model_name": "FloatProgressModel",
          "model_module_version": "1.5.0",
          "state": {
            "_dom_classes": [],
            "_model_module": "@jupyter-widgets/controls",
            "_model_module_version": "1.5.0",
            "_model_name": "FloatProgressModel",
            "_view_count": null,
            "_view_module": "@jupyter-widgets/controls",
            "_view_module_version": "1.5.0",
            "_view_name": "ProgressView",
            "bar_style": "success",
            "description": "",
            "description_tooltip": null,
            "layout": "IPY_MODEL_ad074b3ac6574ded8b41a18cf11adb55",
            "max": 25,
            "min": 0,
            "orientation": "horizontal",
            "style": "IPY_MODEL_2f813d9eb65a498cb574f4ca7610fb10",
            "value": 25
          }
        },
        "14dce3020e53453497bdcc92c5449050": {
          "model_module": "@jupyter-widgets/controls",
          "model_name": "HTMLModel",
          "model_module_version": "1.5.0",
          "state": {
            "_dom_classes": [],
            "_model_module": "@jupyter-widgets/controls",
            "_model_module_version": "1.5.0",
            "_model_name": "HTMLModel",
            "_view_count": null,
            "_view_module": "@jupyter-widgets/controls",
            "_view_module_version": "1.5.0",
            "_view_name": "HTMLView",
            "description": "",
            "description_tooltip": null,
            "layout": "IPY_MODEL_a1dc4da967234c7b952d4590a8e6747b",
            "placeholder": "​",
            "style": "IPY_MODEL_8b4e144bc85b4f05955a7ca7f65b0d19",
            "value": " 25/25 [00:00&lt;00:00, 35.33it/s]"
          }
        },
        "feb783914cc548c5819769747e481872": {
          "model_module": "@jupyter-widgets/base",
          "model_name": "LayoutModel",
          "model_module_version": "1.2.0",
          "state": {
            "_model_module": "@jupyter-widgets/base",
            "_model_module_version": "1.2.0",
            "_model_name": "LayoutModel",
            "_view_count": null,
            "_view_module": "@jupyter-widgets/base",
            "_view_module_version": "1.2.0",
            "_view_name": "LayoutView",
            "align_content": null,
            "align_items": null,
            "align_self": null,
            "border": null,
            "bottom": null,
            "display": null,
            "flex": null,
            "flex_flow": null,
            "grid_area": null,
            "grid_auto_columns": null,
            "grid_auto_flow": null,
            "grid_auto_rows": null,
            "grid_column": null,
            "grid_gap": null,
            "grid_row": null,
            "grid_template_areas": null,
            "grid_template_columns": null,
            "grid_template_rows": null,
            "height": null,
            "justify_content": null,
            "justify_items": null,
            "left": null,
            "margin": null,
            "max_height": null,
            "max_width": null,
            "min_height": null,
            "min_width": null,
            "object_fit": null,
            "object_position": null,
            "order": null,
            "overflow": null,
            "overflow_x": null,
            "overflow_y": null,
            "padding": null,
            "right": null,
            "top": null,
            "visibility": null,
            "width": null
          }
        },
        "d6e92d1ea5544071851ea15d91c7ada0": {
          "model_module": "@jupyter-widgets/base",
          "model_name": "LayoutModel",
          "model_module_version": "1.2.0",
          "state": {
            "_model_module": "@jupyter-widgets/base",
            "_model_module_version": "1.2.0",
            "_model_name": "LayoutModel",
            "_view_count": null,
            "_view_module": "@jupyter-widgets/base",
            "_view_module_version": "1.2.0",
            "_view_name": "LayoutView",
            "align_content": null,
            "align_items": null,
            "align_self": null,
            "border": null,
            "bottom": null,
            "display": null,
            "flex": null,
            "flex_flow": null,
            "grid_area": null,
            "grid_auto_columns": null,
            "grid_auto_flow": null,
            "grid_auto_rows": null,
            "grid_column": null,
            "grid_gap": null,
            "grid_row": null,
            "grid_template_areas": null,
            "grid_template_columns": null,
            "grid_template_rows": null,
            "height": null,
            "justify_content": null,
            "justify_items": null,
            "left": null,
            "margin": null,
            "max_height": null,
            "max_width": null,
            "min_height": null,
            "min_width": null,
            "object_fit": null,
            "object_position": null,
            "order": null,
            "overflow": null,
            "overflow_x": null,
            "overflow_y": null,
            "padding": null,
            "right": null,
            "top": null,
            "visibility": null,
            "width": null
          }
        },
        "4b86127bc74f432cb6ca21c90802eb44": {
          "model_module": "@jupyter-widgets/controls",
          "model_name": "DescriptionStyleModel",
          "model_module_version": "1.5.0",
          "state": {
            "_model_module": "@jupyter-widgets/controls",
            "_model_module_version": "1.5.0",
            "_model_name": "DescriptionStyleModel",
            "_view_count": null,
            "_view_module": "@jupyter-widgets/base",
            "_view_module_version": "1.2.0",
            "_view_name": "StyleView",
            "description_width": ""
          }
        },
        "ad074b3ac6574ded8b41a18cf11adb55": {
          "model_module": "@jupyter-widgets/base",
          "model_name": "LayoutModel",
          "model_module_version": "1.2.0",
          "state": {
            "_model_module": "@jupyter-widgets/base",
            "_model_module_version": "1.2.0",
            "_model_name": "LayoutModel",
            "_view_count": null,
            "_view_module": "@jupyter-widgets/base",
            "_view_module_version": "1.2.0",
            "_view_name": "LayoutView",
            "align_content": null,
            "align_items": null,
            "align_self": null,
            "border": null,
            "bottom": null,
            "display": null,
            "flex": null,
            "flex_flow": null,
            "grid_area": null,
            "grid_auto_columns": null,
            "grid_auto_flow": null,
            "grid_auto_rows": null,
            "grid_column": null,
            "grid_gap": null,
            "grid_row": null,
            "grid_template_areas": null,
            "grid_template_columns": null,
            "grid_template_rows": null,
            "height": null,
            "justify_content": null,
            "justify_items": null,
            "left": null,
            "margin": null,
            "max_height": null,
            "max_width": null,
            "min_height": null,
            "min_width": null,
            "object_fit": null,
            "object_position": null,
            "order": null,
            "overflow": null,
            "overflow_x": null,
            "overflow_y": null,
            "padding": null,
            "right": null,
            "top": null,
            "visibility": null,
            "width": null
          }
        },
        "2f813d9eb65a498cb574f4ca7610fb10": {
          "model_module": "@jupyter-widgets/controls",
          "model_name": "ProgressStyleModel",
          "model_module_version": "1.5.0",
          "state": {
            "_model_module": "@jupyter-widgets/controls",
            "_model_module_version": "1.5.0",
            "_model_name": "ProgressStyleModel",
            "_view_count": null,
            "_view_module": "@jupyter-widgets/base",
            "_view_module_version": "1.2.0",
            "_view_name": "StyleView",
            "bar_color": null,
            "description_width": ""
          }
        },
        "a1dc4da967234c7b952d4590a8e6747b": {
          "model_module": "@jupyter-widgets/base",
          "model_name": "LayoutModel",
          "model_module_version": "1.2.0",
          "state": {
            "_model_module": "@jupyter-widgets/base",
            "_model_module_version": "1.2.0",
            "_model_name": "LayoutModel",
            "_view_count": null,
            "_view_module": "@jupyter-widgets/base",
            "_view_module_version": "1.2.0",
            "_view_name": "LayoutView",
            "align_content": null,
            "align_items": null,
            "align_self": null,
            "border": null,
            "bottom": null,
            "display": null,
            "flex": null,
            "flex_flow": null,
            "grid_area": null,
            "grid_auto_columns": null,
            "grid_auto_flow": null,
            "grid_auto_rows": null,
            "grid_column": null,
            "grid_gap": null,
            "grid_row": null,
            "grid_template_areas": null,
            "grid_template_columns": null,
            "grid_template_rows": null,
            "height": null,
            "justify_content": null,
            "justify_items": null,
            "left": null,
            "margin": null,
            "max_height": null,
            "max_width": null,
            "min_height": null,
            "min_width": null,
            "object_fit": null,
            "object_position": null,
            "order": null,
            "overflow": null,
            "overflow_x": null,
            "overflow_y": null,
            "padding": null,
            "right": null,
            "top": null,
            "visibility": null,
            "width": null
          }
        },
        "8b4e144bc85b4f05955a7ca7f65b0d19": {
          "model_module": "@jupyter-widgets/controls",
          "model_name": "DescriptionStyleModel",
          "model_module_version": "1.5.0",
          "state": {
            "_model_module": "@jupyter-widgets/controls",
            "_model_module_version": "1.5.0",
            "_model_name": "DescriptionStyleModel",
            "_view_count": null,
            "_view_module": "@jupyter-widgets/base",
            "_view_module_version": "1.2.0",
            "_view_name": "StyleView",
            "description_width": ""
          }
        },
        "2905de9332004e8fb1833f6480c54fa0": {
          "model_module": "@jupyter-widgets/controls",
          "model_name": "HBoxModel",
          "model_module_version": "1.5.0",
          "state": {
            "_dom_classes": [],
            "_model_module": "@jupyter-widgets/controls",
            "_model_module_version": "1.5.0",
            "_model_name": "HBoxModel",
            "_view_count": null,
            "_view_module": "@jupyter-widgets/controls",
            "_view_module_version": "1.5.0",
            "_view_name": "HBoxView",
            "box_style": "",
            "children": [
              "IPY_MODEL_2778bd6fd2f8464298c74983046b60e0",
              "IPY_MODEL_25a8c489e2d54a1daac3fcd02a262798",
              "IPY_MODEL_a77c883284ad45e4ad88aec6c5ff8542"
            ],
            "layout": "IPY_MODEL_012bfd57d84445c6bff65e8ae11ea795"
          }
        },
        "2778bd6fd2f8464298c74983046b60e0": {
          "model_module": "@jupyter-widgets/controls",
          "model_name": "HTMLModel",
          "model_module_version": "1.5.0",
          "state": {
            "_dom_classes": [],
            "_model_module": "@jupyter-widgets/controls",
            "_model_module_version": "1.5.0",
            "_model_name": "HTMLModel",
            "_view_count": null,
            "_view_module": "@jupyter-widgets/controls",
            "_view_module_version": "1.5.0",
            "_view_name": "HTMLView",
            "description": "",
            "description_tooltip": null,
            "layout": "IPY_MODEL_40be294b37844a6cbc66531cfb2b15ca",
            "placeholder": "​",
            "style": "IPY_MODEL_49e7816b22fb45a58533e6d5cf34826c",
            "value": "100%"
          }
        },
        "25a8c489e2d54a1daac3fcd02a262798": {
          "model_module": "@jupyter-widgets/controls",
          "model_name": "FloatProgressModel",
          "model_module_version": "1.5.0",
          "state": {
            "_dom_classes": [],
            "_model_module": "@jupyter-widgets/controls",
            "_model_module_version": "1.5.0",
            "_model_name": "FloatProgressModel",
            "_view_count": null,
            "_view_module": "@jupyter-widgets/controls",
            "_view_module_version": "1.5.0",
            "_view_name": "ProgressView",
            "bar_style": "success",
            "description": "",
            "description_tooltip": null,
            "layout": "IPY_MODEL_5fc487827da84e84aebb60b35ee3cc64",
            "max": 25,
            "min": 0,
            "orientation": "horizontal",
            "style": "IPY_MODEL_9fd69942a0544ae992603ffe0ac8ea51",
            "value": 25
          }
        },
        "a77c883284ad45e4ad88aec6c5ff8542": {
          "model_module": "@jupyter-widgets/controls",
          "model_name": "HTMLModel",
          "model_module_version": "1.5.0",
          "state": {
            "_dom_classes": [],
            "_model_module": "@jupyter-widgets/controls",
            "_model_module_version": "1.5.0",
            "_model_name": "HTMLModel",
            "_view_count": null,
            "_view_module": "@jupyter-widgets/controls",
            "_view_module_version": "1.5.0",
            "_view_name": "HTMLView",
            "description": "",
            "description_tooltip": null,
            "layout": "IPY_MODEL_258bc6fca13b4b4b948d1b48b6db17ba",
            "placeholder": "​",
            "style": "IPY_MODEL_aabdc981f5bf4613bc4c2db3ebd321e9",
            "value": " 25/25 [00:00&lt;00:00, 31.06it/s]"
          }
        },
        "012bfd57d84445c6bff65e8ae11ea795": {
          "model_module": "@jupyter-widgets/base",
          "model_name": "LayoutModel",
          "model_module_version": "1.2.0",
          "state": {
            "_model_module": "@jupyter-widgets/base",
            "_model_module_version": "1.2.0",
            "_model_name": "LayoutModel",
            "_view_count": null,
            "_view_module": "@jupyter-widgets/base",
            "_view_module_version": "1.2.0",
            "_view_name": "LayoutView",
            "align_content": null,
            "align_items": null,
            "align_self": null,
            "border": null,
            "bottom": null,
            "display": null,
            "flex": null,
            "flex_flow": null,
            "grid_area": null,
            "grid_auto_columns": null,
            "grid_auto_flow": null,
            "grid_auto_rows": null,
            "grid_column": null,
            "grid_gap": null,
            "grid_row": null,
            "grid_template_areas": null,
            "grid_template_columns": null,
            "grid_template_rows": null,
            "height": null,
            "justify_content": null,
            "justify_items": null,
            "left": null,
            "margin": null,
            "max_height": null,
            "max_width": null,
            "min_height": null,
            "min_width": null,
            "object_fit": null,
            "object_position": null,
            "order": null,
            "overflow": null,
            "overflow_x": null,
            "overflow_y": null,
            "padding": null,
            "right": null,
            "top": null,
            "visibility": null,
            "width": null
          }
        },
        "40be294b37844a6cbc66531cfb2b15ca": {
          "model_module": "@jupyter-widgets/base",
          "model_name": "LayoutModel",
          "model_module_version": "1.2.0",
          "state": {
            "_model_module": "@jupyter-widgets/base",
            "_model_module_version": "1.2.0",
            "_model_name": "LayoutModel",
            "_view_count": null,
            "_view_module": "@jupyter-widgets/base",
            "_view_module_version": "1.2.0",
            "_view_name": "LayoutView",
            "align_content": null,
            "align_items": null,
            "align_self": null,
            "border": null,
            "bottom": null,
            "display": null,
            "flex": null,
            "flex_flow": null,
            "grid_area": null,
            "grid_auto_columns": null,
            "grid_auto_flow": null,
            "grid_auto_rows": null,
            "grid_column": null,
            "grid_gap": null,
            "grid_row": null,
            "grid_template_areas": null,
            "grid_template_columns": null,
            "grid_template_rows": null,
            "height": null,
            "justify_content": null,
            "justify_items": null,
            "left": null,
            "margin": null,
            "max_height": null,
            "max_width": null,
            "min_height": null,
            "min_width": null,
            "object_fit": null,
            "object_position": null,
            "order": null,
            "overflow": null,
            "overflow_x": null,
            "overflow_y": null,
            "padding": null,
            "right": null,
            "top": null,
            "visibility": null,
            "width": null
          }
        },
        "49e7816b22fb45a58533e6d5cf34826c": {
          "model_module": "@jupyter-widgets/controls",
          "model_name": "DescriptionStyleModel",
          "model_module_version": "1.5.0",
          "state": {
            "_model_module": "@jupyter-widgets/controls",
            "_model_module_version": "1.5.0",
            "_model_name": "DescriptionStyleModel",
            "_view_count": null,
            "_view_module": "@jupyter-widgets/base",
            "_view_module_version": "1.2.0",
            "_view_name": "StyleView",
            "description_width": ""
          }
        },
        "5fc487827da84e84aebb60b35ee3cc64": {
          "model_module": "@jupyter-widgets/base",
          "model_name": "LayoutModel",
          "model_module_version": "1.2.0",
          "state": {
            "_model_module": "@jupyter-widgets/base",
            "_model_module_version": "1.2.0",
            "_model_name": "LayoutModel",
            "_view_count": null,
            "_view_module": "@jupyter-widgets/base",
            "_view_module_version": "1.2.0",
            "_view_name": "LayoutView",
            "align_content": null,
            "align_items": null,
            "align_self": null,
            "border": null,
            "bottom": null,
            "display": null,
            "flex": null,
            "flex_flow": null,
            "grid_area": null,
            "grid_auto_columns": null,
            "grid_auto_flow": null,
            "grid_auto_rows": null,
            "grid_column": null,
            "grid_gap": null,
            "grid_row": null,
            "grid_template_areas": null,
            "grid_template_columns": null,
            "grid_template_rows": null,
            "height": null,
            "justify_content": null,
            "justify_items": null,
            "left": null,
            "margin": null,
            "max_height": null,
            "max_width": null,
            "min_height": null,
            "min_width": null,
            "object_fit": null,
            "object_position": null,
            "order": null,
            "overflow": null,
            "overflow_x": null,
            "overflow_y": null,
            "padding": null,
            "right": null,
            "top": null,
            "visibility": null,
            "width": null
          }
        },
        "9fd69942a0544ae992603ffe0ac8ea51": {
          "model_module": "@jupyter-widgets/controls",
          "model_name": "ProgressStyleModel",
          "model_module_version": "1.5.0",
          "state": {
            "_model_module": "@jupyter-widgets/controls",
            "_model_module_version": "1.5.0",
            "_model_name": "ProgressStyleModel",
            "_view_count": null,
            "_view_module": "@jupyter-widgets/base",
            "_view_module_version": "1.2.0",
            "_view_name": "StyleView",
            "bar_color": null,
            "description_width": ""
          }
        },
        "258bc6fca13b4b4b948d1b48b6db17ba": {
          "model_module": "@jupyter-widgets/base",
          "model_name": "LayoutModel",
          "model_module_version": "1.2.0",
          "state": {
            "_model_module": "@jupyter-widgets/base",
            "_model_module_version": "1.2.0",
            "_model_name": "LayoutModel",
            "_view_count": null,
            "_view_module": "@jupyter-widgets/base",
            "_view_module_version": "1.2.0",
            "_view_name": "LayoutView",
            "align_content": null,
            "align_items": null,
            "align_self": null,
            "border": null,
            "bottom": null,
            "display": null,
            "flex": null,
            "flex_flow": null,
            "grid_area": null,
            "grid_auto_columns": null,
            "grid_auto_flow": null,
            "grid_auto_rows": null,
            "grid_column": null,
            "grid_gap": null,
            "grid_row": null,
            "grid_template_areas": null,
            "grid_template_columns": null,
            "grid_template_rows": null,
            "height": null,
            "justify_content": null,
            "justify_items": null,
            "left": null,
            "margin": null,
            "max_height": null,
            "max_width": null,
            "min_height": null,
            "min_width": null,
            "object_fit": null,
            "object_position": null,
            "order": null,
            "overflow": null,
            "overflow_x": null,
            "overflow_y": null,
            "padding": null,
            "right": null,
            "top": null,
            "visibility": null,
            "width": null
          }
        },
        "aabdc981f5bf4613bc4c2db3ebd321e9": {
          "model_module": "@jupyter-widgets/controls",
          "model_name": "DescriptionStyleModel",
          "model_module_version": "1.5.0",
          "state": {
            "_model_module": "@jupyter-widgets/controls",
            "_model_module_version": "1.5.0",
            "_model_name": "DescriptionStyleModel",
            "_view_count": null,
            "_view_module": "@jupyter-widgets/base",
            "_view_module_version": "1.2.0",
            "_view_name": "StyleView",
            "description_width": ""
          }
        }
      }
    }
  },
  "cells": [
    {
      "cell_type": "code",
      "source": [
        "# pretrained word2vec vector 183 --> http://vectors.nlpl.eu/repository/#\n",
        "!wget http://vectors.nlpl.eu/repository/20/183.zip\n",
        "!unzip 183.zip"
      ],
      "metadata": {
        "colab": {
          "base_uri": "https://localhost:8080/"
        },
        "id": "JnYoODMocscG",
        "outputId": "41d95ab9-9344-41ba-90a4-720307db93bf"
      },
      "execution_count": null,
      "outputs": [
        {
          "output_type": "stream",
          "name": "stdout",
          "text": [
            "--2022-05-09 17:42:16--  http://vectors.nlpl.eu/repository/20/183.zip\n",
            "Resolving vectors.nlpl.eu (vectors.nlpl.eu)... 129.240.189.181\n",
            "Connecting to vectors.nlpl.eu (vectors.nlpl.eu)|129.240.189.181|:80... connected.\n",
            "HTTP request sent, awaiting response... 200 OK\n",
            "Length: 635497368 (606M) [application/zip]\n",
            "Saving to: ‘183.zip’\n",
            "\n",
            "183.zip             100%[===================>] 606.06M  18.3MB/s    in 35s     \n",
            "\n",
            "2022-05-09 17:42:52 (17.5 MB/s) - ‘183.zip’ saved [635497368/635497368]\n",
            "\n",
            "Archive:  183.zip\n",
            "  inflating: meta.json               \n",
            "  inflating: model.bin               \n",
            "  inflating: model.txt               \n",
            "  inflating: README                  \n"
          ]
        }
      ]
    },
    {
      "cell_type": "code",
      "source": [
        "!pip install pymorphy2"
      ],
      "metadata": {
        "colab": {
          "base_uri": "https://localhost:8080/"
        },
        "id": "kcp4t7HLEnf5",
        "outputId": "d1088347-9edc-4467-85bf-b4f6c6dd499f"
      },
      "execution_count": null,
      "outputs": [
        {
          "output_type": "stream",
          "name": "stdout",
          "text": [
            "Collecting pymorphy2\n",
            "  Downloading pymorphy2-0.9.1-py3-none-any.whl (55 kB)\n",
            "\u001b[K     |████████████████████████████████| 55 kB 1.9 MB/s \n",
            "\u001b[?25hCollecting dawg-python>=0.7.1\n",
            "  Downloading DAWG_Python-0.7.2-py2.py3-none-any.whl (11 kB)\n",
            "Requirement already satisfied: docopt>=0.6 in /usr/local/lib/python3.7/dist-packages (from pymorphy2) (0.6.2)\n",
            "Collecting pymorphy2-dicts-ru<3.0,>=2.4\n",
            "  Downloading pymorphy2_dicts_ru-2.4.417127.4579844-py2.py3-none-any.whl (8.2 MB)\n",
            "\u001b[K     |████████████████████████████████| 8.2 MB 19.1 MB/s \n",
            "\u001b[?25hInstalling collected packages: pymorphy2-dicts-ru, dawg-python, pymorphy2\n",
            "Successfully installed dawg-python-0.7.2 pymorphy2-0.9.1 pymorphy2-dicts-ru-2.4.417127.4579844\n"
          ]
        }
      ]
    },
    {
      "cell_type": "code",
      "source": [
        "import numpy as np\n",
        "import nltk\n",
        "from nltk.tokenize import sent_tokenize, word_tokenize\n",
        "from nltk.corpus import stopwords\n",
        "import pymorphy2\n",
        "import pymystem3\n",
        "import re\n",
        "import pandas as pd\n",
        "import os\n",
        "import matplotlib.pyplot as plt\n",
        "from sklearn.metrics import accuracy_score, f1_score\n",
        "\n",
        "import gensim\n",
        "from gensim.models import Word2Vec, KeyedVectors\n",
        "\n",
        "nltk.download('punkt')\n",
        "nltk.download(\"stopwords\")\n",
        "nltk.download('averaged_perceptron_tagger')\n",
        "\n",
        "russian_stopwords = stopwords.words('russian')\n",
        "morph = pymorphy2.MorphAnalyzer()\n",
        "\n",
        "from tqdm.notebook import tqdm\n",
        "import matplotlib.pyplot as plt\n",
        "\n",
        "import torch\n",
        "import torch.nn as nn\n",
        "import torch.nn.functional as F\n",
        "from torch import optim\n",
        "from torch.utils.data import Dataset, DataLoader, random_split\n",
        "\n",
        "SEED = 42 \n",
        "torch.manual_seed(SEED)\n",
        "torch.cuda.manual_seed(SEED)\n",
        "torch.backends.cudnn.deterministic = True\n",
        "torch.backends.cudnn.benchmark = False\n",
        "np.random.seed(SEED)"
      ],
      "metadata": {
        "colab": {
          "base_uri": "https://localhost:8080/"
        },
        "id": "zxzLO_clEGiM",
        "outputId": "915fcda3-c5f7-4410-dad3-959c22775557"
      },
      "execution_count": null,
      "outputs": [
        {
          "output_type": "stream",
          "name": "stdout",
          "text": [
            "[nltk_data] Downloading package punkt to /root/nltk_data...\n",
            "[nltk_data]   Unzipping tokenizers/punkt.zip.\n",
            "[nltk_data] Downloading package stopwords to /root/nltk_data...\n",
            "[nltk_data]   Unzipping corpora/stopwords.zip.\n",
            "[nltk_data] Downloading package averaged_perceptron_tagger to\n",
            "[nltk_data]     /root/nltk_data...\n",
            "[nltk_data]   Unzipping taggers/averaged_perceptron_tagger.zip.\n"
          ]
        }
      ]
    },
    {
      "cell_type": "code",
      "source": [
        "def getDataFrame(fileName):\n",
        "    file = open(fileName, encoding='utf-8')\n",
        "    table = file.read()\n",
        "\n",
        "    table = table.replace('\"', '`', 1).replace('\";\"', \"`;`\").replace('\"\\n\"', '`\\n`', -1)\n",
        "    invTable = table[::-1].replace('\"', '`', 1)\n",
        "    table = invTable[::-1]\n",
        "\n",
        "    preparse = re.findall(\n",
        "        '(`[0-9]+`;`[0-9]+`;`[^;`\\n]+`;`[^;`]+`;`-?[0-9]+`;`[0-9]+`;`[0-9]+`;`[0-9]+`;`[0-9]+`;`[0-9]+`;`[0-9]+`;`[0-9]+`)',\n",
        "        table,)\n",
        "\n",
        "    preparse = preparse[:500]\n",
        "\n",
        "    dataLines = []\n",
        "    for el in preparse:\n",
        "        curEl = el.replace('`', '')\n",
        "        dataLines.append(curEl.split(';'))\n",
        "\n",
        "    data = pd.DataFrame([el for el in dataLines])\n",
        "\n",
        "    data = data.rename(columns={0: 'id',\n",
        "                                1: 'date',\n",
        "                                2: 'name',\n",
        "                                3: 'text',\n",
        "                                4: 'type',\n",
        "                                5: 'rep',\n",
        "                                6: 'rtv',\n",
        "                                7: 'fav',\n",
        "                                8: 'count',\n",
        "                                9: 'fol',\n",
        "                                10: 'frien',\n",
        "                                11: 'listcount', })\n",
        "    data['date'] = pd.to_datetime(data['date'].astype(int), unit='s')\n",
        "\n",
        "    return data\n",
        "\n",
        "def getDict(filename, sep=';'):\n",
        "    file = open(filename)\n",
        "    table = file.read()\n",
        "    file.close()\n",
        "\n",
        "    dict = {}\n",
        "    for line in table.split('\\n'):\n",
        "        if line == table.split('\\n')[-1]:\n",
        "            break\n",
        "        word = line.split(sep)[0]\n",
        "        value = line.split(sep)[1]\n",
        "        if word not in dict:\n",
        "            dict[word] = [1, int(value)]\n",
        "        else:\n",
        "            dict[word][0] += 1\n",
        "            dict[word][1] += int(value)\n",
        "\n",
        "    fairDict = {}\n",
        "    for word in dict.items():\n",
        "        fairDict[word[0]] = word[1][1] / word[1][0]\n",
        "\n",
        "    return fairDict\n",
        "\n",
        "def preprocess(doc):\n",
        "    doc = re.sub(r'[^\\w]', ' ', doc) # replace with a space all characters that are not letters or numbers\n",
        "    words = doc.split() # split string by space\n",
        "    words = filter(lambda x: x not in russian_stopwords, words) # remove all words that are stop words\n",
        "\n",
        "    def get_normal_form_pos(word):\n",
        "        p = morph.parse(word)[0]\n",
        "        return f'{p.normal_form}_{p.tag.POS}'\n",
        "\n",
        "    words = map(get_normal_form_pos, words) # convert words to normal form\n",
        "    return list(words)\n",
        "\n",
        "def getWord2VecFeatures(docs, pretrained=False):\n",
        "    if not pretrained:\n",
        "        w2v_model = Word2Vec(sentences=docs, size=300, window=5, min_count=1, workers=2)\n",
        "        w2v_model.train(docs, total_examples=w2v_model.corpus_count, epochs=300, report_delay=1)\n",
        "        wv = w2v_model.wv\n",
        "    else:\n",
        "        wv = KeyedVectors.load_word2vec_format('model.bin', encoding='utf-8', unicode_errors='ignore', binary=True)\n",
        "\n",
        "    def word_averaging(wv, words):\n",
        "        mean = np.zeros(wv.vector_size)\n",
        "        count = 0\n",
        "        for word in words:\n",
        "            if word in wv:\n",
        "                mean += wv[word]\n",
        "                count += 1\n",
        "        \n",
        "        if count != 0:\n",
        "            mean = (mean / count).astype(np.float32)\n",
        "    \n",
        "        return mean\n",
        "    \n",
        "    def word_averaging_list(model, docs):\n",
        "        return np.vstack([word_averaging(wv, comment_text) for comment_text in docs])\n",
        "    \n",
        "    return word_averaging_list(wv, docs)\n",
        "\n",
        "def getRawData(path):\n",
        "    negFile = os.path.join(path, \"negative.csv\")\n",
        "    posFile = os.path.join(path, \"positive.csv\")\n",
        "\n",
        "    negData = getDataFrame(negFile)\n",
        "    posData = getDataFrame(posFile)\n",
        "\n",
        "    return negData, posData\n",
        "\n",
        "data_dir = 'data'\n",
        "negData, posData = getRawData(data_dir)\n",
        "\n",
        "df = pd.concat([negData, posData])\n",
        "ton_dict = getDict(os.path.join(data_dir, \"dictionary1.csv\"), ',')\n",
        "\n",
        "target = df['type'].map({'-1': 0, '1': 1})"
      ],
      "metadata": {
        "id": "Z25DQnuOExL5"
      },
      "execution_count": null,
      "outputs": []
    },
    {
      "cell_type": "code",
      "source": [
        "class TorchDataset(Dataset):\n",
        "    def __init__(self, features, target):\n",
        "        super().__init__()\n",
        "\n",
        "        self.features = torch.Tensor(features).float()\n",
        "        self.target = torch.Tensor(target).unsqueeze(-1)\n",
        "    \n",
        "    def __len__(self):\n",
        "        return len(self.features)\n",
        "    \n",
        "    def __getitem__(self, idx):\n",
        "        return self.features[idx], self.target[idx]"
      ],
      "metadata": {
        "id": "3SaIxtvC1lCm"
      },
      "execution_count": null,
      "outputs": []
    },
    {
      "cell_type": "code",
      "source": [
        "def init_uniform(m):\n",
        "    if isinstance(m, nn.Linear):\n",
        "        nn.init.uniform_(m.weight)\n",
        "        m.bias.data.fill_(0.01)\n",
        "\n",
        "def init_normal(m):\n",
        "    if isinstance(m, nn.Linear):\n",
        "        nn.init.normal_(m.weight)\n",
        "        m.bias.data.fill_(0.01)\n",
        "\n",
        "class MLPNet(nn.Module):\n",
        "    def __init__(self, \n",
        "                 input_dim, \n",
        "                 output_dim=1, \n",
        "                 hidden_dim=64, \n",
        "                 activation='relu', \n",
        "                 loss_function='binary_crossentropy', \n",
        "                 init='uniform',\n",
        "                 regulation='dropout',\n",
        "                 batch_norm=False,\n",
        "                 lr=1e-3):\n",
        "        super().__init__()\n",
        "\n",
        "        if activation not in ['relu', 'sigmoid']:\n",
        "            print('Unknown parameter activation, setting relu as activation')\n",
        "            activation = 'relu'\n",
        "        \n",
        "        if loss_function not in ['binary_crossentropy', 'mse']:\n",
        "            print('Unknown parameter loss_function, setting binary_crossentropy as loss_function')\n",
        "            loss_function = 'binary_crossentropy'\n",
        "        \n",
        "        if init not in ['uniform', 'normal']:\n",
        "            print('Unknown parameter init, setting uniform as init')\n",
        "            init = 'uniform'\n",
        "        \n",
        "        if regulation not in ['dropout', 'l2']:\n",
        "            print('Unknown parameter regulation, setting dropout as regulation')\n",
        "            regulation = 'dropout'\n",
        "\n",
        "        modules = []\n",
        "        modules.append(nn.Linear(input_dim, hidden_dim))\n",
        "        if activation == 'relu':\n",
        "            modules.append(nn.ReLU())\n",
        "        else:\n",
        "            modules.append(nn.Sigmoid())\n",
        "        if batch_norm:\n",
        "            modules.append(nn.BatchNorm1d(hidden_dim))\n",
        "        if regulation == 'dropout':\n",
        "            modules.append(nn.Dropout(p=0.3))\n",
        "        modules.append(nn.Linear(hidden_dim, output_dim))\n",
        "        modules.append(nn.Sigmoid())\n",
        "        self.model = nn.Sequential(*modules)\n",
        "\n",
        "        if init == 'uniform':\n",
        "            self.model.apply(init_uniform)\n",
        "        else:\n",
        "            self.model.apply(init_normal)\n",
        "\n",
        "        if loss_function == 'binary_crossentropy':\n",
        "            self.loss_func = nn.BCELoss()\n",
        "        else:\n",
        "            self.loss_func = nn.MSELoss()\n",
        "\n",
        "        if regulation == 'l2':\n",
        "            self.optimizer = optim.Adam(self.parameters(), lr=lr, weight_decay=1e-2)\n",
        "        else:\n",
        "            self.optimizer = optim.Adam(self.parameters(), lr=lr)\n",
        "    \n",
        "    def forward(self, x):\n",
        "        return self.model(x)"
      ],
      "metadata": {
        "id": "Ock1qs-r9U2G"
      },
      "execution_count": null,
      "outputs": []
    },
    {
      "cell_type": "code",
      "source": [
        "def make_train_state():\n",
        "    return {'learning_rate': learning_rate,\n",
        "            'epoch_index': 0,\n",
        "            'train_loss': [],\n",
        "            'train_acc': [],\n",
        "            'val_loss': [],\n",
        "            'val_acc': [],\n",
        "            'test_loss': -1,\n",
        "            'test_acc': -1}\n",
        "\n",
        "def compute_accuracy(y_pred, y_target):\n",
        "    y_pred_indices = (y_pred.detach() >= 0.5).long()\n",
        "    return accuracy_score(y_target, y_pred_indices)\n",
        "\n",
        "num_epochs = 25\n",
        "learning_rate = 0.001\n",
        "batch_size = 64"
      ],
      "metadata": {
        "id": "V2Q0Mag0BRF3"
      },
      "execution_count": null,
      "outputs": []
    },
    {
      "cell_type": "code",
      "source": [
        "def train(classifier, dataset):\n",
        "    #Neural network training function\n",
        "    loss_func = classifier.loss_func\n",
        "    optimizer = classifier.optimizer\n",
        "    train_state = make_train_state() \n",
        "\n",
        "    train_size = int(0.7 * len(dataset))\n",
        "    test_size = len(dataset) - train_size\n",
        "    train_dataset, valid_dataset = random_split(dataset, [train_size, test_size], generator=torch.Generator().manual_seed(SEED + 1))\n",
        "    train_loader = DataLoader(train_dataset, batch_size=batch_size, shuffle=True)\n",
        "    valid_loader = DataLoader(valid_dataset, batch_size=batch_size, shuffle=False)\n",
        "\n",
        "    try:\n",
        "        for epoch_index in tqdm(range(num_epochs)):\n",
        "            train_state['epoch_index'] = epoch_index \n",
        "\n",
        "            # train\n",
        "            running_loss = 0.0 \n",
        "            running_acc = 0.0 \n",
        "            classifier.train()\n",
        "\n",
        "            for batch_index, batch in enumerate(train_loader):\n",
        "                x, y = batch \n",
        "                optimizer.zero_grad()\n",
        "                y_pred = classifier(x)\n",
        "                loss = loss_func(y_pred, y)\n",
        "                loss_t = loss.item() \n",
        "                running_loss += (loss_t - running_loss) / (batch_index + 1)\n",
        "                loss.backward()\n",
        "                optimizer.step()\n",
        "                acc_t = compute_accuracy(y_pred, y)\n",
        "                running_acc += (acc_t - running_acc) / (batch_index + 1)\n",
        "\n",
        "            train_state['train_loss'].append(running_loss)\n",
        "            train_state['train_acc'].append(running_acc)\n",
        "\n",
        "            running_loss = 0.\n",
        "            running_acc = 0.\n",
        "            classifier.eval() \n",
        "\n",
        "            for batch_index, batch in enumerate(valid_loader):\n",
        "                x, y = batch\n",
        "                y_pred =  classifier(x)\n",
        "                loss = loss_func(y_pred, y)\n",
        "                loss_t = loss.to(\"cpu\").item()\n",
        "                running_loss += (loss_t - running_loss) / (batch_index + 1)\n",
        "                acc_t = compute_accuracy(y_pred, y)\n",
        "                running_acc += (acc_t - running_acc) / (batch_index + 1)\n",
        "\n",
        "            train_state['val_loss'].append(running_loss)\n",
        "            train_state['val_acc'].append(running_acc)\n",
        "\n",
        "    except KeyboardInterrupt:\n",
        "        print(\"Exiting loop\")\n",
        "\n",
        "    return train_state"
      ],
      "metadata": {
        "id": "Gq3P-1PDCM3J"
      },
      "execution_count": null,
      "outputs": []
    },
    {
      "cell_type": "code",
      "source": [
        "loss_labels = [\"train_loss\", \"val_loss\"]\n",
        "acc_labels = [\"train_acc\", \"val_acc\"]"
      ],
      "metadata": {
        "id": "ye0aHPpJG-hX"
      },
      "execution_count": null,
      "outputs": []
    },
    {
      "cell_type": "code",
      "source": [
        "docs = df['text'].apply(preprocess)"
      ],
      "metadata": {
        "id": "DLJqUJtpePi2"
      },
      "execution_count": null,
      "outputs": []
    },
    {
      "cell_type": "markdown",
      "source": [
        "# First set of features\n",
        "\n",
        "word2vec-features."
      ],
      "metadata": {
        "id": "eCVhUO0rGM5_"
      }
    },
    {
      "cell_type": "code",
      "source": [
        "features_1 = getWord2VecFeatures(docs)\n",
        "data_1 = TorchDataset(features_1, target.values)"
      ],
      "metadata": {
        "id": "gII46RvjEAr4"
      },
      "execution_count": null,
      "outputs": []
    },
    {
      "cell_type": "markdown",
      "source": [
        "# First option"
      ],
      "metadata": {
        "id": "09kwiVfbouhE"
      }
    },
    {
      "cell_type": "code",
      "source": [
        "params = {\n",
        "    'activation': 'relu',\n",
        "    'loss_function': 'binary_crossentropy',\n",
        "    'init': 'uniform',\n",
        "    'regulation': 'dropout',\n",
        "    'batch_norm': False,\n",
        "    'lr': 1e-3\n",
        "}\n",
        "\n",
        "classifier = MLPNet(features_1.shape[1], **params)\n",
        "train_state = train(classifier, data_1)"
      ],
      "metadata": {
        "colab": {
          "base_uri": "https://localhost:8080/",
          "height": 49,
          "referenced_widgets": [
            "9ab4422c064b4bcca6714bbef8626a97",
            "f1fe7452934d4b0f849aac54e7214cfc",
            "407a47ec48144bf69763c7f8cfb8d8e9",
            "eceac82f273e4c2893d31eeb0ef3cabe",
            "01f33e539aca4e3a89538d04081f9f52",
            "abc4680ed24740f8b7f29597364e3405",
            "8d2cf425915c4801ad490a2a8e4a8f64",
            "87bf9cc9b29d41b59297e8f3bad963ca",
            "41cffce16e5a4e66a31f86302b45858e",
            "6a364ef0577741788d5f74613458e244",
            "ce3b2c2142da4d34b321be1b6656eb2f"
          ]
        },
        "id": "qLJaBACoG63S",
        "outputId": "963b3b56-f8e3-42a4-cd61-fd967bb68bac"
      },
      "execution_count": null,
      "outputs": [
        {
          "output_type": "display_data",
          "data": {
            "text/plain": [
              "  0%|          | 0/25 [00:00<?, ?it/s]"
            ],
            "application/vnd.jupyter.widget-view+json": {
              "version_major": 2,
              "version_minor": 0,
              "model_id": "9ab4422c064b4bcca6714bbef8626a97"
            }
          },
          "metadata": {}
        }
      ]
    },
    {
      "cell_type": "code",
      "source": [
        "for label in loss_labels:\n",
        "    y = train_state[label]\n",
        "    plt.plot(y, label=label)\n",
        "    plt.grid(True)\n",
        "plt.legend()"
      ],
      "metadata": {
        "colab": {
          "base_uri": "https://localhost:8080/",
          "height": 282
        },
        "id": "Dho2d8wdIKBr",
        "outputId": "edb5ed0f-0df7-4d32-8720-2181db556565"
      },
      "execution_count": null,
      "outputs": [
        {
          "output_type": "execute_result",
          "data": {
            "text/plain": [
              "<matplotlib.legend.Legend at 0x7f16770edc50>"
            ]
          },
          "metadata": {},
          "execution_count": 16
        },
        {
          "output_type": "display_data",
          "data": {
            "text/plain": [
              "<Figure size 432x288 with 1 Axes>"
            ],
            "image/png": "[encoded data removed]"
          },
          "metadata": {
            "needs_background": "light"
          }
        }
      ]
    },
    {
      "cell_type": "code",
      "source": [
        "for label in acc_labels:\n",
        "    y = train_state[label]\n",
        "    plt.plot(y, label=label)\n",
        "    plt.grid(True)\n",
        "plt.legend()"
      ],
      "metadata": {
        "colab": {
          "base_uri": "https://localhost:8080/",
          "height": 284
        },
        "id": "1dBdeIOqIKaw",
        "outputId": "8ea5f382-a9af-4f64-81ca-bfc0b470765e"
      },
      "execution_count": null,
      "outputs": [
        {
          "output_type": "execute_result",
          "data": {
            "text/plain": [
              "<matplotlib.legend.Legend at 0x7f16770cd410>"
            ]
          },
          "metadata": {},
          "execution_count": 17
        },
        {
          "output_type": "display_data",
          "data": {
            "text/plain": [
              "<Figure size 432x288 with 1 Axes>"
            ],
            "image/png": "[encoded data removed]"
          },
          "metadata": {
            "needs_background": "light"
          }
        }
      ]
    },
    {
      "cell_type": "markdown",
      "source": [
        "## Second option"
      ],
      "metadata": {
        "id": "IROLT57QUCyd"
      }
    },
    {
      "cell_type": "code",
      "source": [
        "params = {\n",
        "    'activation': 'sigmoid',\n",
        "    'loss_function': 'mse',\n",
        "    'init': 'normal',\n",
        "    'regulation': 'l2',\n",
        "    'batch_norm': True,\n",
        "    'lr': 5e-4\n",
        "}\n",
        "\n",
        "classifier = MLPNet(features_1.shape[1], **params)\n",
        "train_state = train(classifier, data_1)"
      ],
      "metadata": {
        "colab": {
          "base_uri": "https://localhost:8080/",
          "height": 49,
          "referenced_widgets": [
            "780ba6297516476885605583d5fba8cd",
            "e69508314924408da92b232969574320",
            "a1f9d69a998d42a4a693a50ca503b387",
            "89860051410946c9adcc8c093ac87de0",
            "40b4213ba9a24eb2a8c58eac058b24ed",
            "b5eb5c24c79d4cad9c43e7fa4e92ee4b",
            "9137fd45a06240e9bc72c05eaea41792",
            "6a8cc83d0d5348e2a75ff8ce22e55c1e",
            "56e8f56e969d44de9da2ed067949ee1e",
            "8d36b39cba3e41928be8739bbf2d82c7",
            "f24da3518c134d9aa6ac7bbe85edd072"
          ]
        },
        "id": "jVvv64O_UMDZ",
        "outputId": "1a93a609-e8e1-47ee-f456-3acb893dc64a"
      },
      "execution_count": null,
      "outputs": [
        {
          "output_type": "display_data",
          "data": {
            "text/plain": [
              "  0%|          | 0/25 [00:00<?, ?it/s]"
            ],
            "application/vnd.jupyter.widget-view+json": {
              "version_major": 2,
              "version_minor": 0,
              "model_id": "780ba6297516476885605583d5fba8cd"
            }
          },
          "metadata": {}
        }
      ]
    },
    {
      "cell_type": "code",
      "source": [
        "for label in loss_labels:\n",
        "    y = train_state[label]\n",
        "    plt.plot(y, label=label)\n",
        "    plt.grid(True)\n",
        "plt.legend()"
      ],
      "metadata": {
        "colab": {
          "base_uri": "https://localhost:8080/",
          "height": 282
        },
        "id": "gntC5kH5W3g_",
        "outputId": "9877be45-b9b0-4794-b80b-02ebf9dd7602"
      },
      "execution_count": null,
      "outputs": [
        {
          "output_type": "execute_result",
          "data": {
            "text/plain": [
              "<matplotlib.legend.Legend at 0x7f1674eca650>"
            ]
          },
          "metadata": {},
          "execution_count": 39
        },
        {
          "output_type": "display_data",
          "data": {
            "text/plain": [
              "<Figure size 432x288 with 1 Axes>"
            ],
            "image/png": "[encoded data removed]"
          },
          "metadata": {
            "needs_background": "light"
          }
        }
      ]
    },
    {
      "cell_type": "code",
      "source": [
        "for label in acc_labels:\n",
        "    y = train_state[label]\n",
        "    plt.plot(y, label=label)\n",
        "    plt.grid(True)\n",
        "plt.legend()"
      ],
      "metadata": {
        "colab": {
          "base_uri": "https://localhost:8080/",
          "height": 282
        },
        "id": "RXOAjo-RW48E",
        "outputId": "86d5e623-4bcb-4f59-a8ae-c7c27a298cc0"
      },
      "execution_count": null,
      "outputs": [
        {
          "output_type": "execute_result",
          "data": {
            "text/plain": [
              "<matplotlib.legend.Legend at 0x7f1674eae510>"
            ]
          },
          "metadata": {},
          "execution_count": 40
        },
        {
          "output_type": "display_data",
          "data": {
            "text/plain": [
              "<Figure size 432x288 with 1 Axes>"
            ],
            "image/png": "[encoded data removed]"
          },
          "metadata": {
            "needs_background": "light"
          }
        }
      ]
    },
    {
      "cell_type": "markdown",
      "source": [
        "# Second set of features\n",
        "\n",
        "Pretrained Word2vec features."
      ],
      "metadata": {
        "id": "0jWIpPBQJ_Zk"
      }
    },
    {
      "cell_type": "code",
      "source": [
        "features_2 = getWord2VecFeatures(docs, pretrained=True)\n",
        "data_2 = TorchDataset(features_2, target.values)"
      ],
      "metadata": {
        "id": "zxK5u-WGIQrm"
      },
      "execution_count": null,
      "outputs": []
    },
    {
      "cell_type": "markdown",
      "source": [
        "## First option"
      ],
      "metadata": {
        "id": "bG1a9TdpXZBB"
      }
    },
    {
      "cell_type": "code",
      "source": [
        "params = {\n",
        "    'activation': 'relu',\n",
        "    'loss_function': 'binary_crossentropy',\n",
        "    'init': 'uniform',\n",
        "    'regulation': 'dropout',\n",
        "    'batch_norm': False,\n",
        "    'lr': 1e-3\n",
        "}\n",
        "\n",
        "classifier = MLPNet(features_2.shape[1], **params)\n",
        "train_state = train(classifier, data_2)"
      ],
      "metadata": {
        "colab": {
          "base_uri": "https://localhost:8080/",
          "height": 49,
          "referenced_widgets": [
            "5088edcce6704c6e8061f6aeeb61ae3a",
            "b00e5b0d44f84ea288ed33b020491da4",
            "508070422b864eb0961b73cf8757a870",
            "14dce3020e53453497bdcc92c5449050",
            "feb783914cc548c5819769747e481872",
            "d6e92d1ea5544071851ea15d91c7ada0",
            "4b86127bc74f432cb6ca21c90802eb44",
            "ad074b3ac6574ded8b41a18cf11adb55",
            "2f813d9eb65a498cb574f4ca7610fb10",
            "a1dc4da967234c7b952d4590a8e6747b",
            "8b4e144bc85b4f05955a7ca7f65b0d19"
          ]
        },
        "id": "JtXt1XZzKKyN",
        "outputId": "498d8237-d4dc-4ca4-eb1a-a22f461ca10d"
      },
      "execution_count": null,
      "outputs": [
        {
          "output_type": "display_data",
          "data": {
            "text/plain": [
              "  0%|          | 0/25 [00:00<?, ?it/s]"
            ],
            "application/vnd.jupyter.widget-view+json": {
              "version_major": 2,
              "version_minor": 0,
              "model_id": "5088edcce6704c6e8061f6aeeb61ae3a"
            }
          },
          "metadata": {}
        }
      ]
    },
    {
      "cell_type": "code",
      "source": [
        "for label in loss_labels:\n",
        "    y = train_state[label]\n",
        "    plt.plot(y, label=label)\n",
        "    plt.grid(True)\n",
        "plt.legend()"
      ],
      "metadata": {
        "colab": {
          "base_uri": "https://localhost:8080/",
          "height": 282
        },
        "id": "hsIkVNglMRSq",
        "outputId": "23a76c3a-dbe0-4159-a868-0665cc9ce2f1"
      },
      "execution_count": null,
      "outputs": [
        {
          "output_type": "execute_result",
          "data": {
            "text/plain": [
              "<matplotlib.legend.Legend at 0x7f16702da2d0>"
            ]
          },
          "metadata": {},
          "execution_count": 43
        },
        {
          "output_type": "display_data",
          "data": {
            "text/plain": [
              "<Figure size 432x288 with 1 Axes>"
            ],
            "image/png": "[encoded data removed]"
          },
          "metadata": {
            "needs_background": "light"
          }
        }
      ]
    },
    {
      "cell_type": "code",
      "source": [
        "for label in acc_labels:\n",
        "    y = train_state[label]\n",
        "    plt.plot(y, label=label)\n",
        "    plt.grid(True)\n",
        "plt.legend()"
      ],
      "metadata": {
        "colab": {
          "base_uri": "https://localhost:8080/",
          "height": 282
        },
        "id": "jWuNifIXMUMN",
        "outputId": "01fb4e8e-0a10-4298-9aed-1eeeebf0a344"
      },
      "execution_count": null,
      "outputs": [
        {
          "output_type": "execute_result",
          "data": {
            "text/plain": [
              "<matplotlib.legend.Legend at 0x7f167733dc50>"
            ]
          },
          "metadata": {},
          "execution_count": 44
        },
        {
          "output_type": "display_data",
          "data": {
            "text/plain": [
              "<Figure size 432x288 with 1 Axes>"
            ],
            "image/png": "[encoded data removed]"
          },
          "metadata": {
            "needs_background": "light"
          }
        }
      ]
    },
    {
      "cell_type": "markdown",
      "source": [
        "## Second option"
      ],
      "metadata": {
        "id": "jLKQvoQrXh_F"
      }
    },
    {
      "cell_type": "code",
      "source": [
        "params = {\n",
        "    'activation': 'sigmoid',\n",
        "    'loss_function': 'mse',\n",
        "    'init': 'normal',\n",
        "    'regulation': 'l2',\n",
        "    'batch_norm': True,\n",
        "    'lr': 5e-4\n",
        "}\n",
        "\n",
        "classifier = MLPNet(features_2.shape[1], **params)\n",
        "train_state = train(classifier, data_2)"
      ],
      "metadata": {
        "id": "iKFiVbf7Ngkl",
        "colab": {
          "base_uri": "https://localhost:8080/",
          "height": 49,
          "referenced_widgets": [
            "2905de9332004e8fb1833f6480c54fa0",
            "2778bd6fd2f8464298c74983046b60e0",
            "25a8c489e2d54a1daac3fcd02a262798",
            "a77c883284ad45e4ad88aec6c5ff8542",
            "012bfd57d84445c6bff65e8ae11ea795",
            "40be294b37844a6cbc66531cfb2b15ca",
            "49e7816b22fb45a58533e6d5cf34826c",
            "5fc487827da84e84aebb60b35ee3cc64",
            "9fd69942a0544ae992603ffe0ac8ea51",
            "258bc6fca13b4b4b948d1b48b6db17ba",
            "aabdc981f5bf4613bc4c2db3ebd321e9"
          ]
        },
        "outputId": "fbd0c5ca-611c-4439-866d-8eb5a6b8cb00"
      },
      "execution_count": null,
      "outputs": [
        {
          "output_type": "display_data",
          "data": {
            "text/plain": [
              "  0%|          | 0/25 [00:00<?, ?it/s]"
            ],
            "application/vnd.jupyter.widget-view+json": {
              "version_major": 2,
              "version_minor": 0,
              "model_id": "2905de9332004e8fb1833f6480c54fa0"
            }
          },
          "metadata": {}
        }
      ]
    },
    {
      "cell_type": "code",
      "source": [
        "for label in loss_labels:\n",
        "    y = train_state[label]\n",
        "    plt.plot(y, label=label)\n",
        "    plt.grid(True)\n",
        "plt.legend()"
      ],
      "metadata": {
        "colab": {
          "base_uri": "https://localhost:8080/",
          "height": 282
        },
        "id": "KbJ278vdpktK",
        "outputId": "31717046-9a21-4932-f010-529ec2bd430c"
      },
      "execution_count": null,
      "outputs": [
        {
          "output_type": "execute_result",
          "data": {
            "text/plain": [
              "<matplotlib.legend.Legend at 0x7f1674783890>"
            ]
          },
          "metadata": {},
          "execution_count": 58
        },
        {
          "output_type": "display_data",
          "data": {
            "text/plain": [
              "<Figure size 432x288 with 1 Axes>"
            ],
            "image/png": "[encoded data removed]"
          },
          "metadata": {
            "needs_background": "light"
          }
        }
      ]
    },
    {
      "cell_type": "code",
      "source": [
        "for label in acc_labels:\n",
        "    y = train_state[label]\n",
        "    plt.plot(y, label=label)\n",
        "    plt.grid(True)\n",
        "plt.legend()"
      ],
      "metadata": {
        "colab": {
          "base_uri": "https://localhost:8080/",
          "height": 282
        },
        "id": "Wp7qqixYpmy3",
        "outputId": "fdb7f534-e448-415f-ef0c-d9bbce57ad99"
      },
      "execution_count": null,
      "outputs": [
        {
          "output_type": "execute_result",
          "data": {
            "text/plain": [
              "<matplotlib.legend.Legend at 0x7f16749b5d50>"
            ]
          },
          "metadata": {},
          "execution_count": 59
        },
        {
          "output_type": "display_data",
          "data": {
            "text/plain": [
              "<Figure size 432x288 with 1 Axes>"
            ],
            "image/png": "[encoded data removed]"
          },
          "metadata": {
            "needs_background": "light"
          }
        }
      ]
    }
  ]
}